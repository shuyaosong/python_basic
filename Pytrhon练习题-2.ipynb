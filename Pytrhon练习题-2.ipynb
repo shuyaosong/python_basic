{
 "cells": [
  {
   "cell_type": "markdown",
   "metadata": {},
   "source": [
    "（一）利用递归方法求5!"
   ]
  },
  {
   "cell_type": "code",
   "execution_count": 3,
   "metadata": {},
   "outputs": [
    {
     "name": "stdout",
     "output_type": "stream",
     "text": [
      "0! = 1\n",
      "1! = 1\n",
      "2! = 2\n",
      "3! = 6\n",
      "4! = 24\n",
      "5! = 120\n"
     ]
    }
   ],
   "source": [
    "#非递归\n",
    "for i in range(6):\n",
    "    if i == 0:\n",
    "        factorial = 1\n",
    "    else :\n",
    "        factorial *= i\n",
    "    print('%d! = %d'%(i,factorial))"
   ]
  },
  {
   "cell_type": "code",
   "execution_count": 5,
   "metadata": {},
   "outputs": [
    {
     "name": "stdout",
     "output_type": "stream",
     "text": [
      "0! = 1\n",
      "1! = 1\n",
      "2! = 2\n",
      "3! = 6\n",
      "4! = 24\n",
      "5! = 120\n",
      "6! = 720\n",
      "7! = 5040\n",
      "8! = 40320\n",
      "9! = 362880\n"
     ]
    }
   ],
   "source": [
    "#求阶乘的递归函数\n",
    "def fac(j):\n",
    "    if j == 0:\n",
    "        fac_value = 1\n",
    "    else :\n",
    "        fac_value = j * fac(j-1)   #函数内部调用函数本身\n",
    "    return fac_value     #别忘了函数需要返回值\n",
    "\n",
    "for i in range(10):\n",
    "    print('%d! = %d'%(i,fac(i)))"
   ]
  },
  {
   "cell_type": "markdown",
   "metadata": {},
   "source": [
    "（二）利用递归函数调用方式，将所输入的5个字符，以相反顺序打印出来"
   ]
  },
  {
   "cell_type": "code",
   "execution_count": 32,
   "metadata": {},
   "outputs": [
    {
     "name": "stdout",
     "output_type": "stream",
     "text": [
      "输入字符串yaosong\n",
      "g\n",
      "n\n",
      "o\n",
      "s\n",
      "o\n",
      "a\n",
      "y\n"
     ]
    }
   ],
   "source": [
    "#非递归\n",
    "str = list(input('输入字符串'))  #字符串转为列表\n",
    "\n",
    "#列表逆序输出\n",
    "for item in reversed(str):  \n",
    "    print(item)   "
   ]
  },
  {
   "cell_type": "code",
   "execution_count": 11,
   "metadata": {},
   "outputs": [
    {
     "name": "stdout",
     "output_type": "stream",
     "text": [
      "输入一个字符串shu\n",
      "u\n",
      "h\n",
      "s\n"
     ]
    }
   ],
   "source": [
    "str = input('输入一个字符串')\n",
    "l = len(str)\n",
    "\n",
    "def out(s,l):\n",
    "    if l == 0:\n",
    "        return   #函数中用return结束，可以没有具体的返回值\n",
    "    else :\n",
    "        print(str[l-1])    #字符串也是可以索引的\n",
    "        out(s,l-1)   \n",
    "\n",
    "out(str,l)"
   ]
  },
  {
   "cell_type": "markdown",
   "metadata": {},
   "source": [
    "（三）按空格将列表合并为字符串\n",
    "* 提示：用join函数"
   ]
  },
  {
   "cell_type": "code",
   "execution_count": 6,
   "metadata": {},
   "outputs": [
    {
     "data": {
      "text/plain": [
       "'shu yao song 123456'"
      ]
     },
     "execution_count": 6,
     "metadata": {},
     "output_type": "execute_result"
    }
   ],
   "source": [
    "L = ['shu', 'yao', 'song', 123456]\n",
    "a = ' '\n",
    "b = a.join(str(n) for n in L)   #当列表中格式复杂时，要统一格式\n",
    "b"
   ]
  },
  {
   "cell_type": "code",
   "execution_count": 8,
   "metadata": {},
   "outputs": [
    {
     "data": {
      "text/plain": [
       "'shu yao song hello'"
      ]
     },
     "execution_count": 8,
     "metadata": {},
     "output_type": "execute_result"
    }
   ],
   "source": [
    "L = ['shu', 'yao', 'song', 'hello']\n",
    "a = ' '\n",
    "b = a.join(L)   #当列表中格式统一，则直接写列表名即可\n",
    "b"
   ]
  },
  {
   "cell_type": "markdown",
   "metadata": {},
   "source": [
    "（四）将一个数组逆序输出"
   ]
  },
  {
   "cell_type": "code",
   "execution_count": 13,
   "metadata": {},
   "outputs": [
    {
     "name": "stdout",
     "output_type": "stream",
     "text": [
      "[6, 5, 4, 3, 2, 1]\n"
     ]
    }
   ],
   "source": [
    "L = [1,2,3,4,5,6]\n",
    "index = int(len(L)/2)   #中间值\n",
    "for i in range(index):\n",
    "    L[i],L[len(L)-1-i] = L[len(L)-1-i],L[i]   #对称位置互换\n",
    "print(L)"
   ]
  },
  {
   "cell_type": "markdown",
   "metadata": {},
   "source": [
    "（五）两个 3 行 3 列的矩阵，实现其对应位置的数据相加，并返回一个新矩阵"
   ]
  },
  {
   "cell_type": "code",
   "execution_count": 18,
   "metadata": {},
   "outputs": [
    {
     "name": "stdout",
     "output_type": "stream",
     "text": [
      "[11, 4, 6]\n",
      "[8, 55, 12]\n",
      "[14, 16, 99]\n"
     ]
    }
   ],
   "source": [
    "X = [[1,2,3],\n",
    "     [4,5,6],\n",
    "     [7,8,9]\n",
    "    ]\n",
    "Y = [[10,2,3],\n",
    "     [4,50,6],\n",
    "     [7,8,90]\n",
    "    ]\n",
    "\n",
    "Z = [[0,0,0],[0,0,0],[0,0,0]]    #格式不重要\n",
    "for i in range(3):\n",
    "    for j in range (3):\n",
    "        Z[i][j] = X[i][j] + Y[i][j]   #对应位置相加\n",
    "for z in Z:\n",
    "    print(z)"
   ]
  },
  {
   "cell_type": "markdown",
   "metadata": {},
   "source": [
    "（六）用匿名函数来求和\n",
    "* 提示：用lambda"
   ]
  },
  {
   "cell_type": "code",
   "execution_count": 20,
   "metadata": {},
   "outputs": [
    {
     "name": "stdout",
     "output_type": "stream",
     "text": [
      "7\n"
     ]
    }
   ],
   "source": [
    "sum_value = lambda x,y:x+y\n",
    "print(sum_value(3,4))"
   ]
  },
  {
   "cell_type": "markdown",
   "metadata": {},
   "source": [
    "（七）查找子串在父串中的起始位置"
   ]
  },
  {
   "cell_type": "code",
   "execution_count": 23,
   "metadata": {},
   "outputs": [
    {
     "name": "stdout",
     "output_type": "stream",
     "text": [
      "3\n"
     ]
    }
   ],
   "source": [
    "s1 = 'udheiuegfuerb'\n",
    "s2 = 'eiueg'\n",
    "print(s1.find(s2))  #字符串s2从s1[3]开始"
   ]
  },
  {
   "cell_type": "markdown",
   "metadata": {},
   "source": [
    "（八）在字典中找到年龄最大的人，并输出"
   ]
  },
  {
   "cell_type": "code",
   "execution_count": 25,
   "metadata": {},
   "outputs": [
    {
     "name": "stdout",
     "output_type": "stream",
     "text": [
      "python 90\n"
     ]
    }
   ],
   "source": [
    "people = {'shu':25, 'python':90,'tang':40}\n",
    "m = 'shu'     #要用引号括起来\n",
    "for i in people.keys():\n",
    "    if people[i] > people[m]:\n",
    "        m = i\n",
    "print(m,people[m])"
   ]
  },
  {
   "cell_type": "markdown",
   "metadata": {},
   "source": [
    "（九）列表转换为字典\n",
    "* 列表中元素只有两个,一个key一个value"
   ]
  },
  {
   "cell_type": "code",
   "execution_count": 31,
   "metadata": {},
   "outputs": [
    {
     "data": {
      "text/plain": [
       "'yaosong'"
      ]
     },
     "execution_count": 31,
     "metadata": {},
     "output_type": "execute_result"
    }
   ],
   "source": [
    "L1 = ['shu', 'yaosong']\n",
    "L2 = [123,456]\n",
    "D = dict([L1,L2])\n",
    "D['shu']"
   ]
  },
  {
   "cell_type": "markdown",
   "metadata": {},
   "source": [
    "（十）从键盘输入一个字符串，将小写字母全部转换成大写字母，然后输出到一个磁盘文件\"test\"中保存"
   ]
  },
  {
   "cell_type": "code",
   "execution_count": 36,
   "metadata": {},
   "outputs": [
    {
     "name": "stdout",
     "output_type": "stream",
     "text": [
      "输入一个字符串shu yaosong\n",
      "SHU YAOSONG\n"
     ]
    }
   ],
   "source": [
    "S1 = input('输入一个字符串')\n",
    "S1 = S1.upper()   #转化为大写\n",
    "\n",
    "f = open('test.txt','w')\n",
    "f.write(S1)\n",
    "f.close()   #记得关文件\n",
    "\n",
    "f = open('test.txt','r')\n",
    "print(f.read())\n",
    "f.close()"
   ]
  },
  {
   "cell_type": "code",
   "execution_count": null,
   "metadata": {
    "collapsed": true
   },
   "outputs": [],
   "source": []
  }
 ],
 "metadata": {
  "anaconda-cloud": {},
  "kernelspec": {
   "display_name": "Python 3",
   "language": "python",
   "name": "python3"
  },
  "language_info": {
   "codemirror_mode": {
    "name": "ipython",
    "version": 3
   },
   "file_extension": ".py",
   "mimetype": "text/x-python",
   "name": "python",
   "nbconvert_exporter": "python",
   "pygments_lexer": "ipython3",
   "version": "3.7.3"
  },
  "toc": {
   "base_numbering": 1,
   "nav_menu": {},
   "number_sections": true,
   "sideBar": true,
   "skip_h1_title": false,
   "title_cell": "Table of Contents",
   "title_sidebar": "Contents",
   "toc_cell": false,
   "toc_position": {},
   "toc_section_display": true,
   "toc_window_display": false
  }
 },
 "nbformat": 4,
 "nbformat_minor": 1
}
