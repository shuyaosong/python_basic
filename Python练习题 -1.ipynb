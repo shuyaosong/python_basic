{
 "cells": [
  {
   "cell_type": "markdown",
   "metadata": {},
   "source": [
    "# Python练习题-1"
   ]
  },
  {
   "cell_type": "markdown",
   "metadata": {},
   "source": [
    "有四个数字：1、2、3、4，能组成多少个互不相同且无重复数字的三位数？各是多少？"
   ]
  },
  {
   "cell_type": "code",
   "execution_count": 6,
   "metadata": {},
   "outputs": [
    {
     "name": "stdout",
     "output_type": "stream",
     "text": [
      "1 2 3\n",
      "1 2 4\n",
      "1 3 2\n",
      "1 3 4\n",
      "1 4 2\n",
      "1 4 3\n",
      "2 1 3\n",
      "2 1 4\n",
      "2 3 1\n",
      "2 3 4\n",
      "2 4 1\n",
      "2 4 3\n",
      "3 1 2\n",
      "3 1 4\n",
      "3 2 1\n",
      "3 2 4\n",
      "3 4 1\n",
      "3 4 2\n",
      "4 1 2\n",
      "4 1 3\n",
      "4 2 1\n",
      "4 2 3\n",
      "4 3 1\n",
      "4 3 2\n",
      "一共有24个\n"
     ]
    }
   ],
   "source": [
    "count = 0\n",
    "for i in range(1,5):           #百位\n",
    "    for j in range(1,5):       #十位\n",
    "        for k in range(1,5):   #个位\n",
    "            if (i != j) and (i != k) and (j != k):\n",
    "                print(i,j,k)\n",
    "                count += 1\n",
    "print('一共有%d个'%count)"
   ]
  },
  {
   "cell_type": "markdown",
   "metadata": {},
   "source": [
    "（二）企业发放的奖金根据利润提成。利润(I)低于或等于10万元时，奖金可提10%；利润高于10万元，低于20万元时，低于10万元的部分按10%提成，高于10万元的部分，可提成7.5%；20万到40万之间时，高于20万元的部分，可提成5%；40万到60万之间时高于40万元的部分，可提成3%；60万到100万之间时，高于60万元的部分，可提成1.5%，高于100万元时，超过100万元的部分按1%提成，从键盘输入当月利润I，求应发放奖金总数？"
   ]
  },
  {
   "cell_type": "code",
   "execution_count": 10,
   "metadata": {},
   "outputs": [
    {
     "name": "stdout",
     "output_type": "stream",
     "text": [
      "输入你的利润值2000000\n",
      "49500.0\n"
     ]
    }
   ],
   "source": [
    "i = int(input('输入你的利润值'))\n",
    "arr = [1000000,600000,400000,200000,100000,0]\n",
    "rat = [0.01,0.015,0.03,0.05,0.075,0.1]\n",
    "result = 0\n",
    "for idx in range(0,6):\n",
    "    if i > arr[idx]:\n",
    "        result += (i-arr[idx])*rat[idx]\n",
    "        i = arr[idx]\n",
    "print (result)"
   ]
  },
  {
   "cell_type": "markdown",
   "metadata": {},
   "source": [
    "（三）输入三个整数x,y,z，请把这三个数由小到大输出"
   ]
  },
  {
   "cell_type": "code",
   "execution_count": 20,
   "metadata": {},
   "outputs": [
    {
     "name": "stdout",
     "output_type": "stream",
     "text": [
      "输入整数:5\n",
      "输入整数:9\n",
      "输入整数:2\n",
      "[2, 5, 9]\n"
     ]
    }
   ],
   "source": [
    "number = []\n",
    "for i in range(3):\n",
    "    number.append(int(input('输入整数:')))  #输入要转为整型，注意新增列表的写法\n",
    "number.sort(reverse = False)   #写reverse = True,则为从大到小\n",
    "print(number)"
   ]
  },
  {
   "cell_type": "markdown",
   "metadata": {},
   "source": [
    "（四）将一个列表的数据复制到另一个列表中"
   ]
  },
  {
   "cell_type": "code",
   "execution_count": 21,
   "metadata": {},
   "outputs": [
    {
     "data": {
      "text/plain": [
       "[1, 2, 3, 4]"
      ]
     },
     "execution_count": 21,
     "metadata": {},
     "output_type": "execute_result"
    }
   ],
   "source": [
    "a = [1,2,3,4]\n",
    "b = a[:]\n",
    "b"
   ]
  },
  {
   "cell_type": "markdown",
   "metadata": {},
   "source": [
    "（五）暂停一秒输出,并格式化当前时间。使用 time 模块的 sleep() 函数。"
   ]
  },
  {
   "cell_type": "code",
   "execution_count": 35,
   "metadata": {},
   "outputs": [
    {
     "name": "stdout",
     "output_type": "stream",
     "text": [
      "2019-06-28 11:37:17\n",
      "2019-06-28 11:37:18\n",
      "2019-06-28 11:37:20\n"
     ]
    }
   ],
   "source": [
    "import time\n",
    "print(time.strftime('%Y-%m-%d %H:%M:%S',time.localtime()))\n",
    "\n",
    "time.sleep(1)  #1秒后再执行下一行\n",
    "print(time.strftime('%Y-%m-%d %H:%M:%S',time.localtime()))\n",
    "\n",
    "time.sleep(2)\n",
    "print(time.strftime('%Y-%m-%d %H:%M:%S',time.localtime()))"
   ]
  },
  {
   "cell_type": "markdown",
   "metadata": {},
   "source": [
    "（六）打印出所有的\"水仙花数\"，所谓\"水仙花数\"是指一个三位数，其各位数字立方和等于该数本身。例如：153是一个\"水仙花数\"，因为153=1的三次方＋5的三次方＋3的三次方。"
   ]
  },
  {
   "cell_type": "code",
   "execution_count": 43,
   "metadata": {},
   "outputs": [
    {
     "name": "stdout",
     "output_type": "stream",
     "text": [
      "153\n",
      "370\n",
      "371\n",
      "407\n"
     ]
    }
   ],
   "source": [
    "for i in range(1,10):\n",
    "    for j in range(0,10):\n",
    "        for k in range(0,10):\n",
    "            if (k+j*10+i*100) == (k**3+j**3+pow(i,3)):   #次方的表示方法\n",
    "                print(k+j*10+i*100)"
   ]
  },
  {
   "cell_type": "markdown",
   "metadata": {},
   "source": [
    "（七）输入一行字符，分别统计出其中英文字母、空格、数字和其它字符的个数。"
   ]
  },
  {
   "cell_type": "code",
   "execution_count": 57,
   "metadata": {},
   "outputs": [
    {
     "name": "stdout",
     "output_type": "stream",
     "text": [
      "输入字符串gewrgre&^*%&^*@$#%@ 2134\n",
      "letter=7,space=1,digit=4\n",
      "others=12\n"
     ]
    }
   ],
   "source": [
    "str = input('输入字符串')\n",
    "\n",
    "letter = 0\n",
    "space = 0\n",
    "digit = 0\n",
    "others = 0\n",
    "\n",
    "for c in str:           #提取字符串中字符\n",
    "    if c.isalpha():       # 内置函数判断字符是否为字母\n",
    "        letter += 1\n",
    "    elif c.isspace():     #内置函数判断字符是否为空格\n",
    "        space += 1\n",
    "    elif c.isdigit():     #内置函数判断字符是否为数字\n",
    "        digit += 1\n",
    "    else :\n",
    "        others += 1\n",
    "print('letter=%d,space=%d,digit=%d\\nothers=%d'%(letter,space,digit,others))   #用参数打印"
   ]
  },
  {
   "cell_type": "markdown",
   "metadata": {
    "collapsed": true
   },
   "source": [
    "（八）一球从100米高度自由落下，每次落地后反跳回原高度的一半；再落下，求它在第10次落地时，共经过多少米？第10次反弹多高？"
   ]
  },
  {
   "cell_type": "code",
   "execution_count": 67,
   "metadata": {},
   "outputs": [
    {
     "name": "stdout",
     "output_type": "stream",
     "text": [
      "第10次反弹0.097656米，第10次落地共经过299.609375米\n"
     ]
    }
   ],
   "source": [
    "rebound = 100     #第0次反弹的高度\n",
    "total_path = 100     #第1次落地经过长度\n",
    "\n",
    "for i in range(1,11):\n",
    "    rebound /= 2    #循环10次后，得到第10次反弹的高度\n",
    "    # print(rebound)   测试代码\n",
    "    if i < 10:\n",
    "        total_path += rebound*2   #循环9次后，得到第10次落地经过长度\n",
    "        '''print(total_path)   测试代码\n",
    "        print('\\n') '''\n",
    "\n",
    "print('第10次反弹%f米，第10次落地共经过%f米'%(rebound,total_path))   #结果是浮点型"
   ]
  },
  {
   "cell_type": "code",
   "execution_count": 36,
   "metadata": {},
   "outputs": [
    {
     "name": "stdout",
     "output_type": "stream",
     "text": [
      "0.09765625\n",
      "299.609375\n"
     ]
    }
   ],
   "source": [
    "h = 100  #总高度\n",
    "time = 10  #次数\n",
    "height = []  #反弹高度\n",
    "for i in range(2,time+1):\n",
    "    h /= 2\n",
    "    height.append(h)\n",
    "print (min(height)/2)\n",
    "print (sum(height)*2 + 100)\n"
   ]
  },
  {
   "cell_type": "code",
   "execution_count": null,
   "metadata": {
    "collapsed": true
   },
   "outputs": [],
   "source": []
  }
 ],
 "metadata": {
  "anaconda-cloud": {},
  "kernelspec": {
   "display_name": "Python 3",
   "language": "python",
   "name": "python3"
  },
  "language_info": {
   "codemirror_mode": {
    "name": "ipython",
    "version": 3
   },
   "file_extension": ".py",
   "mimetype": "text/x-python",
   "name": "python",
   "nbconvert_exporter": "python",
   "pygments_lexer": "ipython3",
   "version": "3.7.3"
  },
  "toc": {
   "base_numbering": 1,
   "nav_menu": {},
   "number_sections": true,
   "sideBar": true,
   "skip_h1_title": false,
   "title_cell": "Table of Contents",
   "title_sidebar": "Contents",
   "toc_cell": false,
   "toc_position": {},
   "toc_section_display": true,
   "toc_window_display": false
  }
 },
 "nbformat": 4,
 "nbformat_minor": 1
}
