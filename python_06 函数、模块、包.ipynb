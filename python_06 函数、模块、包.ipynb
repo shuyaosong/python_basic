{
 "cells": [
  {
   "cell_type": "markdown",
   "metadata": {},
   "source": [
    "# 函数\n",
    "* 参数定义的顺序必须按照以下**顺序**：必选参数、默认参数、可变参数、命名关键字参数、关键字参数\n",
    "* **必选参数**name：必须传入和申明类型一致的参数\n",
    "* **默认参数**age：没有必须传入\n",
    "* **可变参数***args：参数个数可变，仅需传入参数值，args接受的是传入参数组成的元组\n",
    "* **关键字参数** **kw：传入参数名和值，kw 接受的是传入参数组成的字典\n",
    "* **命名关键字参数** city：传入指定的参数名和值。命名关键字参数需要一个特殊分隔符*，*后面的参数被视为命名关键字参数。如果函数定义中已经有了一个可变参数，后面跟着的命名关键字参数就不再需要一个特殊分隔符*"
   ]
  },
  {
   "cell_type": "code",
   "execution_count": 61,
   "metadata": {},
   "outputs": [],
   "source": [
    "#函数定义\n",
    "def person(name, age = 10, *args, city, **kw):   #命名关键字参数要写在关键字参数前面\n",
    "    print('name =', name)\n",
    "    print('age =', age)\n",
    "    print(args)\n",
    "    print(city)\n",
    "    print(kw)\n"
   ]
  },
  {
   "cell_type": "code",
   "execution_count": 63,
   "metadata": {},
   "outputs": [
    {
     "name": "stdout",
     "output_type": "stream",
     "text": [
      "name = Liang\n",
      "age = 20\n",
      "(1, 2)\n",
      "shanghai\n",
      "{'job': 'ee', 'gender': 'male'}\n"
     ]
    }
   ],
   "source": [
    "# 调用 person 函数\n",
    "person('Liang', 20, 1, 2, city='shanghai',job='ee', gender='male')"
   ]
  },
  {
   "cell_type": "code",
   "execution_count": 69,
   "metadata": {},
   "outputs": [
    {
     "name": "stdout",
     "output_type": "stream",
     "text": [
      "name = shu\n",
      "123\n"
     ]
    }
   ],
   "source": [
    "#命名关键字参数的写法\n",
    "def person2(name, *, city):\n",
    "    print('name =', name)\n",
    "    print(city)\n",
    "\n",
    "person2('shu', city = 123)"
   ]
  },
  {
   "cell_type": "markdown",
   "metadata": {},
   "source": [
    "## 无参函数"
   ]
  },
  {
   "cell_type": "code",
   "execution_count": 12,
   "metadata": {},
   "outputs": [
    {
     "name": "stdout",
     "output_type": "stream",
     "text": [
      "a = 10\n"
     ]
    }
   ],
   "source": [
    "def print_value ():     # 定义一个函数\n",
    "    print('a =', a)\n",
    "\n",
    "b = 10\n",
    "c = 20\n",
    "print_value()    #调用函数"
   ]
  },
  {
   "cell_type": "markdown",
   "metadata": {},
   "source": [
    "## 带参函数"
   ]
  },
  {
   "cell_type": "code",
   "execution_count": 19,
   "metadata": {},
   "outputs": [
    {
     "name": "stdout",
     "output_type": "stream",
     "text": [
      "56\n"
     ]
    }
   ],
   "source": [
    "def add_ab(a,b):\n",
    "    print(a+b)\n",
    "\n",
    "c = '5'\n",
    "d = '6'\n",
    "add_ab(c,d)   #调用函数"
   ]
  },
  {
   "cell_type": "code",
   "execution_count": 20,
   "metadata": {},
   "outputs": [
    {
     "name": "stdout",
     "output_type": "stream",
     "text": [
      "11\n"
     ]
    }
   ],
   "source": [
    "c = 5\n",
    "d = 6\n",
    "add_ab(c,d)   #调用函数"
   ]
  },
  {
   "cell_type": "code",
   "execution_count": 18,
   "metadata": {},
   "outputs": [
    {
     "data": {
      "text/plain": [
       "3"
      ]
     },
     "execution_count": 18,
     "metadata": {},
     "output_type": "execute_result"
    }
   ],
   "source": [
    "def add_ab(a,b):\n",
    "    return(a+b)    #return是函数的返回值\n",
    "\n",
    "add_ab(1,2)  #调用函数"
   ]
  },
  {
   "cell_type": "markdown",
   "metadata": {},
   "source": [
    "## 函数指定默认值"
   ]
  },
  {
   "cell_type": "code",
   "execution_count": 24,
   "metadata": {},
   "outputs": [
    {
     "name": "stdout",
     "output_type": "stream",
     "text": [
      "3\n",
      "6\n",
      "9\n"
     ]
    }
   ],
   "source": [
    "def add_ab(a=1,b=2):\n",
    "    return(a+b)    \n",
    "\n",
    "print(add_ab())     #默认初始值为1、2\n",
    "print(add_ab(4))    #改变了第一个默认值\n",
    "print(add_ab(4,5))  "
   ]
  },
  {
   "cell_type": "markdown",
   "metadata": {},
   "source": [
    "## 不确定参数个数"
   ]
  },
  {
   "cell_type": "markdown",
   "metadata": {},
   "source": [
    "### 指定一个参数\n",
    "* 参数为：*参数"
   ]
  },
  {
   "cell_type": "code",
   "execution_count": 35,
   "metadata": {},
   "outputs": [
    {
     "data": {
      "text/plain": [
       "15"
      ]
     },
     "execution_count": 35,
     "metadata": {},
     "output_type": "execute_result"
    }
   ],
   "source": [
    "def add_number(a,*b):    #指定一个参数\n",
    "    for i in b:\n",
    "        a += i\n",
    "    return a\n",
    "\n",
    "add_number(1,2,3,4,5)"
   ]
  },
  {
   "cell_type": "markdown",
   "metadata": {},
   "source": [
    "### 指定一个键值对(字典）\n",
    "* 参数为**键值对"
   ]
  },
  {
   "cell_type": "code",
   "execution_count": 48,
   "metadata": {},
   "outputs": [
    {
     "name": "stdout",
     "output_type": "stream",
     "text": [
      "x 2\n",
      "y 3\n",
      "z 4\n"
     ]
    },
    {
     "data": {
      "text/plain": [
       "10"
      ]
     },
     "execution_count": 48,
     "metadata": {},
     "output_type": "execute_result"
    }
   ],
   "source": [
    "def add_number2(a,**b):   #制定一个键值对\n",
    "    for c,d in b.items():\n",
    "        print(c,d)\n",
    "        a += d\n",
    "    return a\n",
    "\n",
    "add_number2(1,x=2,y=3,z=4)"
   ]
  },
  {
   "cell_type": "markdown",
   "metadata": {},
   "source": [
    "## 多个返回值"
   ]
  },
  {
   "cell_type": "code",
   "execution_count": 50,
   "metadata": {},
   "outputs": [
    {
     "name": "stdout",
     "output_type": "stream",
     "text": [
      "6 9\n"
     ]
    }
   ],
   "source": [
    "def add_number(a,*b):    \n",
    "    c = 0\n",
    "    for i in b:\n",
    "        a += i\n",
    "        c += a\n",
    "    return a,c    #多个返回值\n",
    "\n",
    "a,c = add_number(1,2,3)\n",
    "print(a,c)"
   ]
  },
  {
   "cell_type": "markdown",
   "metadata": {},
   "source": [
    "## 全局变量\n",
    "* 函数内声明的变量，与函数外的同名变量不发生关系，即局部变量\n",
    "* 若要与函数外边的变量有关系，需要使用 global 语句"
   ]
  },
  {
   "cell_type": "code",
   "execution_count": 73,
   "metadata": {},
   "outputs": [
    {
     "name": "stdout",
     "output_type": "stream",
     "text": [
      "x = 11\n",
      "y = 2\n"
     ]
    }
   ],
   "source": [
    "def func():\n",
    "    x = 1\n",
    "    global y\n",
    "    y = 2\n",
    "\n",
    "x = 11\n",
    "y = 12\n",
    "func()     #调用函数\n",
    "print('x =', x)\n",
    "print('y =', y)"
   ]
  },
  {
   "cell_type": "markdown",
   "metadata": {},
   "source": [
    "# 模块\n",
    "* 为了方便维护代码和具有清晰结构，我们可以将相关的代码写到一个文件，其他相关代码写入其他文件。这样的一个文件，称之为模块。模块让你能够有逻辑地组织你的 Python 代码段\n",
    "* 模块的文件名必须以.py为扩展名\n",
    "* 模块能定义函数，类和变量，模块里也能包含可执行的代码"
   ]
  },
  {
   "cell_type": "markdown",
   "metadata": {},
   "source": [
    "## 写后缀为.py的脚本文件"
   ]
  },
  {
   "cell_type": "markdown",
   "metadata": {},
   "source": [
    "### 写一个脚本文件\n",
    "* 第一行要加上‘%%writefile’ ，后面跟上脚本文件的名字\n",
    "* 运行后，notebook的文件夹中就会出现一个.py的文件，这个文件在notebook中不能直接运行"
   ]
  },
  {
   "cell_type": "code",
   "execution_count": 139,
   "metadata": {},
   "outputs": [
    {
     "name": "stdout",
     "output_type": "stream",
     "text": [
      "Writing add_list.py\n"
     ]
    }
   ],
   "source": [
    "%%writefile  add_list.py\n",
    "\n",
    "a = 10\n",
    "\n",
    "def add(value_list):\n",
    "    sum = 0\n",
    "    for i in value_list:\n",
    "        sum += i\n",
    "    return(sum)\n",
    "\n",
    "shu_list = [1,2,3,4,5]\n",
    "print(add(shu_list))"
   ]
  },
  {
   "cell_type": "markdown",
   "metadata": {},
   "source": [
    "### 在notebook中运行脚本文件\n",
    "* 第一行要加上‘%run’，后面跟上脚本文件的名字"
   ]
  },
  {
   "cell_type": "code",
   "execution_count": 140,
   "metadata": {},
   "outputs": [
    {
     "name": "stdout",
     "output_type": "stream",
     "text": [
      "15\n"
     ]
    }
   ],
   "source": [
    "%run add_list.py"
   ]
  },
  {
   "cell_type": "markdown",
   "metadata": {},
   "source": [
    "## 导入自带模块"
   ]
  },
  {
   "cell_type": "markdown",
   "metadata": {},
   "source": [
    "### 使用math中的sin功能"
   ]
  },
  {
   "cell_type": "code",
   "execution_count": 84,
   "metadata": {},
   "outputs": [
    {
     "data": {
      "text/plain": [
       "0.8414709848078965"
      ]
     },
     "execution_count": 84,
     "metadata": {},
     "output_type": "execute_result"
    }
   ],
   "source": [
    "import math\n",
    "math.sin(1)"
   ]
  },
  {
   "cell_type": "markdown",
   "metadata": {},
   "source": [
    "### 另一种方式使用sin"
   ]
  },
  {
   "cell_type": "code",
   "execution_count": 85,
   "metadata": {},
   "outputs": [
    {
     "data": {
      "text/plain": [
       "0.8414709848078965"
      ]
     },
     "execution_count": 85,
     "metadata": {},
     "output_type": "execute_result"
    }
   ],
   "source": [
    "from math import sin\n",
    "sin(1)"
   ]
  },
  {
   "cell_type": "markdown",
   "metadata": {},
   "source": [
    "### 导入math中全部功能(不建议）"
   ]
  },
  {
   "cell_type": "code",
   "execution_count": 148,
   "metadata": {},
   "outputs": [
    {
     "data": {
      "text/plain": [
       "0.8414709848078965"
      ]
     },
     "execution_count": 148,
     "metadata": {},
     "output_type": "execute_result"
    }
   ],
   "source": [
    "from math import *\n",
    "sin(1)"
   ]
  },
  {
   "cell_type": "markdown",
   "metadata": {},
   "source": [
    "### 模块取别名"
   ]
  },
  {
   "cell_type": "code",
   "execution_count": 99,
   "metadata": {},
   "outputs": [
    {
     "name": "stdout",
     "output_type": "stream",
     "text": [
      "0.8414709848078965\n",
      "0.5403023058681398\n"
     ]
    }
   ],
   "source": [
    "import math as m\n",
    "print(m.sin(1))\n",
    "print(m.cos(1))"
   ]
  },
  {
   "cell_type": "markdown",
   "metadata": {},
   "source": [
    "## 导入自己写的模块"
   ]
  },
  {
   "cell_type": "code",
   "execution_count": 142,
   "metadata": {},
   "outputs": [
    {
     "name": "stdout",
     "output_type": "stream",
     "text": [
      "15\n"
     ]
    }
   ],
   "source": [
    "# 上面2.1写的add.py相当于一个模块，可以进行导入\n",
    "# 第一次导入会自动运行一下这个模块，之后再导入就不会全部运行一下了\n",
    "import add_list"
   ]
  },
  {
   "cell_type": "markdown",
   "metadata": {},
   "source": [
    "### 显示模块所在位置"
   ]
  },
  {
   "cell_type": "code",
   "execution_count": 143,
   "metadata": {},
   "outputs": [
    {
     "data": {
      "text/plain": [
       "<module 'add_list' from 'E:\\\\Jupyter\\\\Notebook\\\\Python快速入门\\\\add_list.py'>"
      ]
     },
     "execution_count": 143,
     "metadata": {},
     "output_type": "execute_result"
    }
   ],
   "source": [
    "add_list"
   ]
  },
  {
   "cell_type": "markdown",
   "metadata": {},
   "source": [
    "### 调用模块中的变量"
   ]
  },
  {
   "cell_type": "code",
   "execution_count": 144,
   "metadata": {},
   "outputs": [
    {
     "name": "stdout",
     "output_type": "stream",
     "text": [
      "10\n"
     ]
    }
   ],
   "source": [
    "print(add_list.a)"
   ]
  },
  {
   "cell_type": "markdown",
   "metadata": {},
   "source": [
    "### 更改模块中的变量"
   ]
  },
  {
   "cell_type": "code",
   "execution_count": 146,
   "metadata": {},
   "outputs": [
    {
     "data": {
      "text/plain": [
       "100"
      ]
     },
     "execution_count": 146,
     "metadata": {},
     "output_type": "execute_result"
    }
   ],
   "source": [
    "add_list.a = 100\n",
    "add_list.a"
   ]
  },
  {
   "cell_type": "markdown",
   "metadata": {},
   "source": [
    "### 调用模块中的函数"
   ]
  },
  {
   "cell_type": "code",
   "execution_count": 147,
   "metadata": {},
   "outputs": [
    {
     "data": {
      "text/plain": [
       "33"
      ]
     },
     "execution_count": 147,
     "metadata": {},
     "output_type": "execute_result"
    }
   ],
   "source": [
    "str = [10,11,12]\n",
    "add_list.add(str)"
   ]
  },
  {
   "cell_type": "markdown",
   "metadata": {},
   "source": [
    "### 删除脚本"
   ]
  },
  {
   "cell_type": "markdown",
   "metadata": {},
   "source": [
    "* import os            #调用操作系统的命令\n",
    "* os.remove('add_list.py')    #要删除的文件要用引号括起来"
   ]
  },
  {
   "cell_type": "code",
   "execution_count": null,
   "metadata": {},
   "outputs": [],
   "source": []
  }
 ],
 "metadata": {
  "kernelspec": {
   "display_name": "Python 3",
   "language": "python",
   "name": "python3"
  },
  "language_info": {
   "codemirror_mode": {
    "name": "ipython",
    "version": 3
   },
   "file_extension": ".py",
   "mimetype": "text/x-python",
   "name": "python",
   "nbconvert_exporter": "python",
   "pygments_lexer": "ipython3",
   "version": "3.7.3"
  },
  "toc": {
   "base_numbering": 1,
   "nav_menu": {},
   "number_sections": true,
   "sideBar": true,
   "skip_h1_title": false,
   "title_cell": "Table of Contents",
   "title_sidebar": "Contents",
   "toc_cell": false,
   "toc_position": {
    "height": "calc(100% - 180px)",
    "left": "10px",
    "top": "150px",
    "width": "304.475px"
   },
   "toc_section_display": true,
   "toc_window_display": true
  }
 },
 "nbformat": 4,
 "nbformat_minor": 2
}
