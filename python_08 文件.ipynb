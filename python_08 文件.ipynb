{
 "cells": [
  {
   "cell_type": "markdown",
   "metadata": {},
   "source": [
    "# 写文件\n",
    "* 写完后，代码所在的文件夹下会出现一个.txt文件\n",
    "* 将该文件移动到file文件夹后，再次执行代码，会在原位置再生成一个shu.txt"
   ]
  },
  {
   "cell_type": "code",
   "execution_count": 21,
   "metadata": {},
   "outputs": [
    {
     "name": "stdout",
     "output_type": "stream",
     "text": [
      "Writing shu.txt\n"
     ]
    }
   ],
   "source": [
    "%%writefile shu.txt\n",
    "\n",
    "hello world\n",
    "shu yao song\n",
    "19930812"
   ]
  },
  {
   "cell_type": "markdown",
   "metadata": {},
   "source": [
    "# 读文件\n",
    "* 写好的文件，又手动移动到了file文件夹，因此位置改了"
   ]
  },
  {
   "cell_type": "code",
   "execution_count": 8,
   "metadata": {},
   "outputs": [],
   "source": [
    "txt = open('./file/shu.txt')  #打开文件，注意：地址要用引号括起来"
   ]
  },
  {
   "cell_type": "markdown",
   "metadata": {},
   "source": [
    "## 读全部内容"
   ]
  },
  {
   "cell_type": "code",
   "execution_count": 6,
   "metadata": {},
   "outputs": [
    {
     "name": "stdout",
     "output_type": "stream",
     "text": [
      "\n",
      "hello world\n",
      "shu yao song\n",
      "19930812\n",
      "\n"
     ]
    }
   ],
   "source": [
    "txt_read = txt.read()    #读取文件全部内容\n",
    "print(txt_read)"
   ]
  },
  {
   "cell_type": "markdown",
   "metadata": {},
   "source": [
    "## 分行读\n",
    "* 每一行会单独提取出来作为一个字符串，存入到list中"
   ]
  },
  {
   "cell_type": "code",
   "execution_count": 9,
   "metadata": {},
   "outputs": [
    {
     "name": "stdout",
     "output_type": "stream",
     "text": [
      "<class 'list'>\n",
      "['\\n', 'hello world\\n', 'shu yao song\\n', '19930812\\n']\n"
     ]
    }
   ],
   "source": [
    "txt_line = txt.readlines()   \n",
    "print(type(txt_line))\n",
    "print(txt_line)"
   ]
  },
  {
   "cell_type": "code",
   "execution_count": 12,
   "metadata": {},
   "outputs": [
    {
     "name": "stdout",
     "output_type": "stream",
     "text": [
      "cur_line :  \n",
      "\n",
      "cur_line :  hello world\n",
      "\n",
      "cur_line :  shu yao song\n",
      "\n",
      "cur_line :  19930812\n",
      "\n"
     ]
    }
   ],
   "source": [
    "for line in txt_line:\n",
    "    print('cur_line : ',line)"
   ]
  },
  {
   "cell_type": "markdown",
   "metadata": {},
   "source": [
    "## 不要忘了关文件"
   ]
  },
  {
   "cell_type": "code",
   "execution_count": 16,
   "metadata": {},
   "outputs": [],
   "source": [
    "txt.close()"
   ]
  },
  {
   "cell_type": "markdown",
   "metadata": {},
   "source": [
    "# 写文件的另一种方式\n",
    "* 文件名不要忘了.txt\n",
    "* 'w'的操作会覆盖之前的内容\n",
    "* 'a'的操作则是追加内容，重复执行会重复写入"
   ]
  },
  {
   "cell_type": "code",
   "execution_count": 28,
   "metadata": {},
   "outputs": [],
   "source": [
    "txt = open('shu_write.txt','w')   #注意格式\n",
    "txt.write('hello')\n",
    "txt.write('\\n')     #文档中换行\n",
    "txt.write('world')\n",
    "txt.close()        #写好了记得关掉"
   ]
  },
  {
   "cell_type": "code",
   "execution_count": 31,
   "metadata": {},
   "outputs": [],
   "source": [
    "#执行完这段代码，原文件内容被删掉了，新写入内容\n",
    "txt = open('shu_write.txt','w')  \n",
    "txt.write('123')\n",
    "txt.write('\\n')     \n",
    "txt.write('456')\n",
    "txt.close()        "
   ]
  },
  {
   "cell_type": "code",
   "execution_count": 32,
   "metadata": {},
   "outputs": [],
   "source": [
    "#执行完这段代码，原文件内容还在，新增一些东西\n",
    "txt = open('shu_write.txt','a') \n",
    "txt.write('\\n')\n",
    "txt.write('shu\\n')    #换行操作可以写入字符串\n",
    "txt.write('yaosong')\n",
    "txt.close()        "
   ]
  },
  {
   "cell_type": "markdown",
   "metadata": {},
   "source": [
    "# 关文件"
   ]
  },
  {
   "cell_type": "code",
   "execution_count": 1,
   "metadata": {},
   "outputs": [
    {
     "name": "stdout",
     "output_type": "stream",
     "text": [
      "\n"
     ]
    }
   ],
   "source": [
    "#写文件后没有关闭文件，导致运行出错\n",
    "txt = open('shu2.txt','w')\n",
    "for i in range(4):\n",
    "    txt.write(str(i)+ '\\n')\n",
    "txt2 = open('shu2.txt','r')\n",
    "print(txt2.read())"
   ]
  },
  {
   "cell_type": "code",
   "execution_count": 3,
   "metadata": {},
   "outputs": [
    {
     "name": "stdout",
     "output_type": "stream",
     "text": [
      "0\n",
      "1\n",
      "2\n",
      "3\n",
      "\n"
     ]
    }
   ],
   "source": [
    "txt = open('shu2.txt','w')\n",
    "for i in range(4):\n",
    "    txt.write(str(i)+ '\\n')\n",
    "txt.close()                #记得关闭文件\n",
    "txt2 = open('shu2.txt','r')\n",
    "print(txt2.read())"
   ]
  },
  {
   "cell_type": "markdown",
   "metadata": {},
   "source": [
    "# 处理文件的异常"
   ]
  },
  {
   "cell_type": "code",
   "execution_count": 10,
   "metadata": {},
   "outputs": [
    {
     "name": "stdout",
     "output_type": "stream",
     "text": [
      "error number:  3\n"
     ]
    }
   ],
   "source": [
    "txt = open('shu3.txt','w')\n",
    "try:\n",
    "    for i in range(5):\n",
    "        1/(i-3)\n",
    "        txt.write(str(i) + '\\n')   #注意写文件的格式\n",
    "except Exception:                #try里面异常了就会跳到这一步\n",
    "    print('error number: ', i)\n",
    "finally:\n",
    "    txt.close()    #出错前先关闭文件再说，避免中间结果丢失"
   ]
  },
  {
   "cell_type": "markdown",
   "metadata": {},
   "source": [
    "# 自动关闭文件\n",
    "* 使用with模块，出现异常后会自动的关闭文件，保留中间结果，相当于集成了try、except、finally"
   ]
  },
  {
   "cell_type": "code",
   "execution_count": 12,
   "metadata": {},
   "outputs": [
    {
     "ename": "ZeroDivisionError",
     "evalue": "division by zero",
     "output_type": "error",
     "traceback": [
      "\u001b[1;31m---------------------------------------------------------------------------\u001b[0m",
      "\u001b[1;31mZeroDivisionError\u001b[0m                         Traceback (most recent call last)",
      "\u001b[1;32m<ipython-input-12-3eaf39bbf5b4>\u001b[0m in \u001b[0;36m<module>\u001b[1;34m\u001b[0m\n\u001b[0;32m      1\u001b[0m \u001b[1;32mwith\u001b[0m \u001b[0mopen\u001b[0m\u001b[1;33m(\u001b[0m\u001b[1;34m'shu4.txt'\u001b[0m\u001b[1;33m,\u001b[0m\u001b[1;34m'w'\u001b[0m\u001b[1;33m)\u001b[0m \u001b[1;32mas\u001b[0m \u001b[0mf\u001b[0m\u001b[1;33m:\u001b[0m   \u001b[1;31m#取别名f\u001b[0m\u001b[1;33m\u001b[0m\u001b[1;33m\u001b[0m\u001b[0m\n\u001b[0;32m      2\u001b[0m     \u001b[1;32mfor\u001b[0m \u001b[0mi\u001b[0m \u001b[1;32min\u001b[0m \u001b[0mrange\u001b[0m\u001b[1;33m(\u001b[0m\u001b[1;36m5\u001b[0m\u001b[1;33m)\u001b[0m\u001b[1;33m:\u001b[0m\u001b[1;33m\u001b[0m\u001b[1;33m\u001b[0m\u001b[0m\n\u001b[1;32m----> 3\u001b[1;33m         \u001b[1;36m1\u001b[0m\u001b[1;33m/\u001b[0m\u001b[1;33m(\u001b[0m\u001b[0mi\u001b[0m\u001b[1;33m-\u001b[0m\u001b[1;36m3\u001b[0m\u001b[1;33m)\u001b[0m\u001b[1;33m\u001b[0m\u001b[1;33m\u001b[0m\u001b[0m\n\u001b[0m\u001b[0;32m      4\u001b[0m         \u001b[0mf\u001b[0m\u001b[1;33m.\u001b[0m\u001b[0mwrite\u001b[0m\u001b[1;33m(\u001b[0m\u001b[0mstr\u001b[0m\u001b[1;33m(\u001b[0m\u001b[0mi\u001b[0m\u001b[1;33m)\u001b[0m \u001b[1;33m+\u001b[0m \u001b[1;34m'\\n'\u001b[0m\u001b[1;33m)\u001b[0m\u001b[1;33m\u001b[0m\u001b[1;33m\u001b[0m\u001b[0m\n",
      "\u001b[1;31mZeroDivisionError\u001b[0m: division by zero"
     ]
    }
   ],
   "source": [
    "with open('shu4.txt','w') as f:   #取别名f\n",
    "    for i in range(5):\n",
    "        1/(i-3)\n",
    "        f.write(str(i) + '\\n')"
   ]
  },
  {
   "cell_type": "code",
   "execution_count": null,
   "metadata": {},
   "outputs": [],
   "source": []
  }
 ],
 "metadata": {
  "kernelspec": {
   "display_name": "Python 3",
   "language": "python",
   "name": "python3"
  },
  "language_info": {
   "codemirror_mode": {
    "name": "ipython",
    "version": 3
   },
   "file_extension": ".py",
   "mimetype": "text/x-python",
   "name": "python",
   "nbconvert_exporter": "python",
   "pygments_lexer": "ipython3",
   "version": "3.7.3"
  },
  "toc": {
   "base_numbering": 1,
   "nav_menu": {},
   "number_sections": true,
   "sideBar": true,
   "skip_h1_title": false,
   "title_cell": "Table of Contents",
   "title_sidebar": "Contents",
   "toc_cell": false,
   "toc_position": {
    "height": "calc(100% - 180px)",
    "left": "10px",
    "top": "150px",
    "width": "178.875px"
   },
   "toc_section_display": true,
   "toc_window_display": true
  }
 },
 "nbformat": 4,
 "nbformat_minor": 2
}
