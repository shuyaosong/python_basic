{
 "cells": [
  {
   "cell_type": "markdown",
   "metadata": {},
   "source": [
    "# 基本语法"
   ]
  },
  {
   "cell_type": "markdown",
   "metadata": {},
   "source": [
    "## 变量"
   ]
  },
  {
   "cell_type": "code",
   "execution_count": 1,
   "metadata": {},
   "outputs": [],
   "source": [
    "#Variables \n",
    "#To assign the value 365 to the variable days, we enter the variable name, add an equals sign (=)\n",
    "\n",
    "days = 365\n"
   ]
  },
  {
   "cell_type": "code",
   "execution_count": 4,
   "metadata": {},
   "outputs": [
    {
     "name": "stdout",
     "output_type": "stream",
     "text": [
      "365\n"
     ]
    }
   ],
   "source": [
    "#print \n",
    "print(365)"
   ]
  },
  {
   "cell_type": "code",
   "execution_count": 1,
   "metadata": {},
   "outputs": [
    {
     "name": "stdout",
     "output_type": "stream",
     "text": [
      "366\n",
      "366\n"
     ]
    }
   ],
   "source": [
    "number_of_days = 365\n",
    "number_of_days = 366\n",
    "print(number_of_days)   \n",
    "print('%d'%number_of_days)"
   ]
  },
  {
   "cell_type": "markdown",
   "metadata": {
    "collapsed": true
   },
   "source": [
    "## 注释\n",
    "* 单行注释\n",
    "* 多行注释"
   ]
  },
  {
   "cell_type": "code",
   "execution_count": 104,
   "metadata": {},
   "outputs": [
    {
     "name": "stdout",
     "output_type": "stream",
     "text": [
      "test\n"
     ]
    }
   ],
   "source": [
    "#Comments\n",
    "\n",
    "\"\"\"\n",
    "Addition: +\n",
    "Subtraction: -\n",
    "Multiplication: *\n",
    "Division: /\n",
    "Exponent: **\n",
    "\"\"\"\n",
    "print('test')  #行末注释"
   ]
  },
  {
   "cell_type": "markdown",
   "metadata": {},
   "source": [
    "## 行和缩进\n",
    "* 物理行是编辑器里的一行，逻辑行是 python 解释器看到的单条语句。\n",
    "* 一行物理行中指定多行逻辑行，需要使用分号。\n",
    "* 当逻辑行太长的时候，可以在多行物理行写一行逻辑行，使用反斜杠。\n",
    "* Python 使用缩进来决定逻辑行的缩进层次，从而用来决定语句的分组。同一层次的语句必须有相同的缩进,强烈建议使用四个空格来缩进。"
   ]
  },
  {
   "cell_type": "code",
   "execution_count": 3,
   "metadata": {},
   "outputs": [
    {
     "name": "stdout",
     "output_type": "stream",
     "text": [
      "1\n"
     ]
    }
   ],
   "source": [
    "# 一行物理行一行逻辑行\n",
    "i = 1\n",
    "\n",
    "# 一行物理行多行逻辑行\n",
    "i = 1 ; j = 2\n",
    "\n",
    "# 一行逻辑行多行物理行\n",
    "i = \\\n",
    "1\n",
    "print(i)"
   ]
  },
  {
   "cell_type": "code",
   "execution_count": 7,
   "metadata": {},
   "outputs": [
    {
     "name": "stdout",
     "output_type": "stream",
     "text": [
      "teenage\n"
     ]
    }
   ],
   "source": [
    "# 缩进：函数示例\n",
    "def func():\n",
    "    print('hello world')\n",
    "    print('this is function')\n",
    "    \n",
    "# 缩进：if示例\n",
    "age = 10\n",
    "if age < 18:\n",
    "    print('teenage')"
   ]
  },
  {
   "cell_type": "markdown",
   "metadata": {},
   "source": [
    "## 索引\n",
    "* 字符串和列表都可以索引\n",
    "* 从前开始数\n",
    "* 从后开始数，输出顺序依然是从列表的前端到后端\n",
    "* 切片(Slicing )：左闭右开区间"
   ]
  },
  {
   "cell_type": "code",
   "execution_count": 24,
   "metadata": {},
   "outputs": [
    {
     "name": "stdout",
     "output_type": "stream",
     "text": [
      "s\n",
      "a\n",
      "g\n"
     ]
    },
    {
     "data": {
      "text/plain": [
       "12"
      ]
     },
     "execution_count": 24,
     "metadata": {},
     "output_type": "execute_result"
    }
   ],
   "source": [
    "str = 'shu yao song'\n",
    "\n",
    "print(str[0])     #打印第一个\n",
    "print(str[5])     #打印第六个\n",
    "\n",
    "print(str[-1])    #打印倒数第一个\n",
    "len(str)"
   ]
  },
  {
   "cell_type": "code",
   "execution_count": 25,
   "metadata": {},
   "outputs": [
    {
     "ename": "IndexError",
     "evalue": "string index out of range",
     "output_type": "error",
     "traceback": [
      "\u001b[1;31m---------------------------------------------------------------------------\u001b[0m",
      "\u001b[1;31mIndexError\u001b[0m                                Traceback (most recent call last)",
      "\u001b[1;32m<ipython-input-25-a1b8069d1341>\u001b[0m in \u001b[0;36m<module>\u001b[1;34m\u001b[0m\n\u001b[0;32m      1\u001b[0m \u001b[1;31m#索引不能越界\u001b[0m\u001b[1;33m\u001b[0m\u001b[1;33m\u001b[0m\u001b[1;33m\u001b[0m\u001b[0m\n\u001b[1;32m----> 2\u001b[1;33m \u001b[0mprint\u001b[0m\u001b[1;33m(\u001b[0m\u001b[0mstr\u001b[0m\u001b[1;33m[\u001b[0m\u001b[1;36m18\u001b[0m\u001b[1;33m]\u001b[0m\u001b[1;33m)\u001b[0m\u001b[1;33m\u001b[0m\u001b[1;33m\u001b[0m\u001b[0m\n\u001b[0m",
      "\u001b[1;31mIndexError\u001b[0m: string index out of range"
     ]
    }
   ],
   "source": [
    "#索引不能越界\n",
    "print(str[18])   "
   ]
  },
  {
   "cell_type": "code",
   "execution_count": 36,
   "metadata": {},
   "outputs": [
    {
     "name": "stdout",
     "output_type": "stream",
     "text": [
      "shu y\n",
      "shu y\n",
      " yao song\n",
      "shu yao\n",
      "shu yao so\n",
      "ng\n",
      "shu yao song\n",
      "suyosn\n"
     ]
    }
   ],
   "source": [
    "#限定两端\n",
    "print(str[0:5])\n",
    "print(str[0:-7])\n",
    "\n",
    "#限定一端\n",
    "print(str[3:])     \n",
    "print(str[:7])\n",
    "print(str[:-2])   #可以是负数\n",
    "print(str[-2:])\n",
    "\n",
    "#全取\n",
    "print(str[:])\n",
    "\n",
    "#每隔两个取值\n",
    "print(str[::2])  #从第一个字符开始"
   ]
  },
  {
   "cell_type": "markdown",
   "metadata": {},
   "source": [
    "## 变量赋值\n",
    "* Python 会为每个新出现的的变量分配内存，但修改可变变量不重新分配内存"
   ]
  },
  {
   "cell_type": "code",
   "execution_count": 37,
   "metadata": {},
   "outputs": [
    {
     "data": {
      "text/plain": [
       "[1, 2]"
      ]
     },
     "execution_count": 37,
     "metadata": {},
     "output_type": "execute_result"
    }
   ],
   "source": [
    "a =[1,2]\n",
    "b = a       #b指向a的内存\n",
    "a = [3,4]   #重新给a分配内存\n",
    "b"
   ]
  },
  {
   "cell_type": "code",
   "execution_count": 38,
   "metadata": {},
   "outputs": [
    {
     "data": {
      "text/plain": [
       "[5, 2]"
      ]
     },
     "execution_count": 38,
     "metadata": {},
     "output_type": "execute_result"
    }
   ],
   "source": [
    "a =[1,2]\n",
    "b = a       #b指向a的内存\n",
    "a[0] = 5   #不分配内存\n",
    "b"
   ]
  },
  {
   "cell_type": "markdown",
   "metadata": {},
   "source": [
    "## 查询函数的用法"
   ]
  },
  {
   "cell_type": "code",
   "execution_count": 2,
   "metadata": {},
   "outputs": [
    {
     "name": "stdout",
     "output_type": "stream",
     "text": [
      "Help on built-in function sin in module math:\n",
      "\n",
      "sin(x, /)\n",
      "    Return the sine of x (measured in radians).\n",
      "\n",
      "None\n"
     ]
    }
   ],
   "source": [
    "import math\n",
    "print(help(math.sin))"
   ]
  },
  {
   "cell_type": "markdown",
   "metadata": {},
   "source": [
    "# 数值与字符串\n",
    "\n",
    "## 整型、浮点型、字符型、布尔型\n",
    "\n"
   ]
  },
  {
   "cell_type": "code",
   "execution_count": 14,
   "metadata": {},
   "outputs": [
    {
     "name": "stdout",
     "output_type": "stream",
     "text": [
      "China\n",
      "123\n",
      "122.5\n",
      "True\n"
     ]
    }
   ],
   "source": [
    "#Data Types\n",
    "#When we assign a value an integer value to a variable, we say that the variable is an instance of the integer class\n",
    "#当我们为变量赋值一个整数值时，我们说变量是整数类的一个实例\n",
    "#The two most common numerical types in Python are integer and float\n",
    "#The most common non-numerical type is a string and bool\n",
    "str_test = \"China\"\n",
    "int_test = 123\n",
    "float_test = 122.5\n",
    "bool_test = 5>3\n",
    "\n",
    "print(str_test)\n",
    "print(int_test)\n",
    "print(float_test)\n",
    "print(bool_test)    #布尔值只有 True、False 两种值，可以用 and、or 和 not 运算"
   ]
  },
  {
   "cell_type": "markdown",
   "metadata": {},
   "source": [
    "## 显示数据类型"
   ]
  },
  {
   "cell_type": "code",
   "execution_count": 10,
   "metadata": {},
   "outputs": [
    {
     "name": "stdout",
     "output_type": "stream",
     "text": [
      "<class 'int'>\n"
     ]
    },
    {
     "data": {
      "text/plain": [
       "bool"
      ]
     },
     "execution_count": 10,
     "metadata": {},
     "output_type": "execute_result"
    }
   ],
   "source": [
    "#多行type只会运行最后一行，要运行前面的就要用print\n",
    "type(str_test)\n",
    "print(type(int_test))\n",
    "type(float_test)\n",
    "type(bool_test)"
   ]
  },
  {
   "cell_type": "code",
   "execution_count": 11,
   "metadata": {},
   "outputs": [
    {
     "name": "stdout",
     "output_type": "stream",
     "text": [
      "<class 'str'>\n",
      "<class 'int'>\n",
      "<class 'float'>\n"
     ]
    }
   ],
   "source": [
    "print(type(str_test))\n",
    "print(type(int_test))\n",
    "print(type(float_test))"
   ]
  },
  {
   "cell_type": "markdown",
   "metadata": {},
   "source": [
    "## 强制类型转换"
   ]
  },
  {
   "cell_type": "code",
   "execution_count": 40,
   "metadata": {},
   "outputs": [
    {
     "name": "stdout",
     "output_type": "stream",
     "text": [
      "<class 'str'>\n",
      "88\n",
      "823\n",
      "<class 'int'>\n",
      "18\n"
     ]
    }
   ],
   "source": [
    "eight = 8\n",
    "str_eight = str(eight)\n",
    "print(type(str_eight))\n",
    "print (str_eight * 2)\n",
    "print (str_eight + '2' + \"3\")  #字符和字符串可以用单引号也可以双引号\n",
    "\n",
    "str_eight = \"8\"\n",
    "int_eight = int(str_eight)\n",
    "print (type(int_eight))\n",
    "print(int_eight + 10)"
   ]
  },
  {
   "cell_type": "code",
   "execution_count": 41,
   "metadata": {},
   "outputs": [
    {
     "ename": "ValueError",
     "evalue": "invalid literal for int() with base 10: 'test'",
     "output_type": "error",
     "traceback": [
      "\u001b[1;31m---------------------------------------------------------------------------\u001b[0m",
      "\u001b[1;31mValueError\u001b[0m                                Traceback (most recent call last)",
      "\u001b[1;32m<ipython-input-41-ffe66085b32e>\u001b[0m in \u001b[0;36m<module>\u001b[1;34m\u001b[0m\n\u001b[0;32m      1\u001b[0m \u001b[1;31m#并不是所有字符型都能变为数字\u001b[0m\u001b[1;33m\u001b[0m\u001b[1;33m\u001b[0m\u001b[1;33m\u001b[0m\u001b[0m\n\u001b[0;32m      2\u001b[0m \u001b[0mstr_test\u001b[0m \u001b[1;33m=\u001b[0m \u001b[1;34m'test'\u001b[0m\u001b[1;33m\u001b[0m\u001b[1;33m\u001b[0m\u001b[0m\n\u001b[1;32m----> 3\u001b[1;33m \u001b[0mstr_to_int\u001b[0m \u001b[1;33m=\u001b[0m \u001b[0mint\u001b[0m\u001b[1;33m(\u001b[0m\u001b[0mstr_test\u001b[0m\u001b[1;33m)\u001b[0m\u001b[1;33m\u001b[0m\u001b[1;33m\u001b[0m\u001b[0m\n\u001b[0m",
      "\u001b[1;31mValueError\u001b[0m: invalid literal for int() with base 10: 'test'"
     ]
    }
   ],
   "source": [
    "#并不是所有字符型都能变为数字\n",
    "str_test = 'test'\n",
    "str_to_int = int(str_test)"
   ]
  },
  {
   "cell_type": "markdown",
   "metadata": {},
   "source": [
    "## 数值计算\n",
    "* 括号 》 幂 》 乘/除 》 加/减\n",
    "* 绝对值、四舍五入、最大/最小值、科学计数法"
   ]
  },
  {
   "cell_type": "code",
   "execution_count": 46,
   "metadata": {},
   "outputs": [
    {
     "name": "stdout",
     "output_type": "stream",
     "text": [
      "20\n",
      "10000\n",
      "3.3333333333333335\n",
      "1\n",
      "100\n"
     ]
    }
   ],
   "source": [
    "china=10\n",
    "united_states=100\n",
    "china_plus_10 = china + 10\n",
    "us_times_100 = united_states * 100\n",
    "\n",
    "#加法运算\n",
    "print(china_plus_10)\n",
    "#乘法运算\n",
    "print(us_times_100)\n",
    "#除法得到浮点型\n",
    "print(china / 3)\n",
    "#取余\n",
    "print(china % 3)\n",
    "#幂运算\n",
    "print (china**2)"
   ]
  },
  {
   "cell_type": "code",
   "execution_count": 53,
   "metadata": {},
   "outputs": [
    {
     "name": "stdout",
     "output_type": "stream",
     "text": [
      "2.3\n",
      "14\n",
      "1\n",
      "5\n",
      "0.013\n",
      "130000.0\n"
     ]
    }
   ],
   "source": [
    "print(abs(-2.3))       #绝对值\n",
    "print(round(13.6))     #四舍五入\n",
    "print(min(1,2,3,4,5))  #最小值\n",
    "print(max(1,2,3,4,5))  #最大值\n",
    "print(1.3e-2)          #科学计数法\n",
    "print(1.3e5)"
   ]
  },
  {
   "cell_type": "markdown",
   "metadata": {},
   "source": [
    "## 字符串操作"
   ]
  },
  {
   "cell_type": "markdown",
   "metadata": {},
   "source": [
    "### 字符的转义\n",
    "* 可以用反斜杠来标识字符，使得不被转义。\n",
    "* 若转义字符较多，可以用 r 或 R 表示原生字符串，该字符串中的字符不会被转义。"
   ]
  },
  {
   "cell_type": "code",
   "execution_count": 11,
   "metadata": {},
   "outputs": [
    {
     "name": "stdout",
     "output_type": "stream",
     "text": [
      "I'm good!\n",
      "I am \n",
      " good!\n",
      "I am \\n good!\n"
     ]
    }
   ],
   "source": [
    "# 反斜杠转义字符\n",
    "a = 'I\\'m good!'\n",
    "print(a)\n",
    "\n",
    "# 原生字符串\n",
    "b = 'I am \\n good!'\n",
    "c = R'I am \\n good!'\n",
    "print(b)\n",
    "print(c)"
   ]
  },
  {
   "cell_type": "markdown",
   "metadata": {},
   "source": [
    "### 加法、乘法、求字符串长度"
   ]
  },
  {
   "cell_type": "code",
   "execution_count": 18,
   "metadata": {},
   "outputs": [
    {
     "name": "stdout",
     "output_type": "stream",
     "text": [
      "hello python\n",
      "hellopython\n",
      "hello pythonhello pythonhello python\n",
      "12\n"
     ]
    }
   ],
   "source": [
    "str = 'hello python'\n",
    "print(str)\n",
    "print('hello' + 'python')   #加法\n",
    "print(str * 3)              #乘法\n",
    "print(len(str))             #字符串长度包括空格"
   ]
  },
  {
   "cell_type": "markdown",
   "metadata": {},
   "source": [
    "### 切分/合并 字符串"
   ]
  },
  {
   "cell_type": "code",
   "execution_count": 64,
   "metadata": {},
   "outputs": [
    {
     "data": {
      "text/plain": [
       "['1', '2', '3', '4', '5']"
      ]
     },
     "execution_count": 64,
     "metadata": {},
     "output_type": "execute_result"
    }
   ],
   "source": [
    "#按空格切分\n",
    "str = '1 2 3 4 5'\n",
    "str.split()"
   ]
  },
  {
   "cell_type": "code",
   "execution_count": 1,
   "metadata": {},
   "outputs": [
    {
     "name": "stdout",
     "output_type": "stream",
     "text": [
      "['1', '2', '3', '4', '5']\n"
     ]
    }
   ],
   "source": [
    "#按逗号切分\n",
    "str ='1,2,3,4,5'\n",
    "str1 = str.split(',')\n",
    "print(str1)"
   ]
  },
  {
   "cell_type": "code",
   "execution_count": 2,
   "metadata": {},
   "outputs": [
    {
     "name": "stdout",
     "output_type": "stream",
     "text": [
      "1 2 3 4 5\n"
     ]
    }
   ],
   "source": [
    "#按空格合并\n",
    "str2 = ' '\n",
    "str3=str2.join(str1)\n",
    "print(str3)"
   ]
  },
  {
   "cell_type": "markdown",
   "metadata": {},
   "source": [
    "### 提取字符串中字符"
   ]
  },
  {
   "cell_type": "code",
   "execution_count": 2,
   "metadata": {},
   "outputs": [
    {
     "name": "stdout",
     "output_type": "stream",
     "text": [
      "s\n",
      "h\n",
      "u\n"
     ]
    }
   ],
   "source": [
    "str = 'shu'\n",
    "for c in str:\n",
    "    print(c)"
   ]
  },
  {
   "cell_type": "markdown",
   "metadata": {},
   "source": [
    "### 字符串替换"
   ]
  },
  {
   "cell_type": "code",
   "execution_count": 79,
   "metadata": {},
   "outputs": [
    {
     "name": "stdout",
     "output_type": "stream",
     "text": [
      "hello world\n",
      "hello python\n"
     ]
    }
   ],
   "source": [
    "str = 'hello python'\n",
    "str1 = str.replace('python','world')  #替换\n",
    "print(str1)\n",
    "print(str)"
   ]
  },
  {
   "cell_type": "markdown",
   "metadata": {},
   "source": [
    "### 字符串大小写切换"
   ]
  },
  {
   "cell_type": "code",
   "execution_count": 82,
   "metadata": {},
   "outputs": [
    {
     "name": "stdout",
     "output_type": "stream",
     "text": [
      "HELLO PYTHON\n",
      "hello python\n"
     ]
    }
   ],
   "source": [
    "str = 'hello python'\n",
    "str1 = str.upper()    #变成大写\n",
    "str2 = str1.lower()   #变成小写\n",
    "print(str1)\n",
    "print(str2)"
   ]
  },
  {
   "cell_type": "markdown",
   "metadata": {},
   "source": [
    "### 去空格"
   ]
  },
  {
   "cell_type": "code",
   "execution_count": 90,
   "metadata": {},
   "outputs": [
    {
     "name": "stdout",
     "output_type": "stream",
     "text": [
      "hello python 123\n",
      "   hello python 123\n"
     ]
    },
    {
     "data": {
      "text/plain": [
       "'hello python 123    '"
      ]
     },
     "execution_count": 90,
     "metadata": {},
     "output_type": "execute_result"
    }
   ],
   "source": [
    "str = '   hello python 123    '\n",
    "str1 = str.strip()      #去两头的空格\n",
    "str2 = str.rstrip()    #去右空格\n",
    "print(str1)\n",
    "print(str2)\n",
    "str.lstrip()     #去左空格"
   ]
  },
  {
   "cell_type": "markdown",
   "metadata": {},
   "source": [
    "### 用format给字符串赋值"
   ]
  },
  {
   "cell_type": "code",
   "execution_count": 102,
   "metadata": {},
   "outputs": [
    {
     "name": "stdout",
     "output_type": "stream",
     "text": [
      "shu yao song\n",
      "song,yao,shu\n",
      "618\n"
     ]
    },
    {
     "data": {
      "text/plain": [
       "'123 456.789000 shuyaosong'"
      ]
     },
     "execution_count": 102,
     "metadata": {},
     "output_type": "execute_result"
    }
   ],
   "source": [
    "str = '{} {} {}'.format('shu','yao','song')             #按顺序赋值\n",
    "str1 = '{2},{1},{0}'.format('shu','yao','song')         #给定顺序赋值\n",
    "str2 = '{shu}{yao}{song}'.format(shu=6,yao=1,song=8)    #传入参数赋值\n",
    "print(str)\n",
    "print(str1)\n",
    "print(str2)\n",
    "\n",
    "shu = 123 ; yao = 456.789 ; song = 'shuyaosong'\n",
    "'%d %f %s' % (shu, yao, song)          #略麻烦的传参"
   ]
  }
 ],
 "metadata": {
  "anaconda-cloud": {},
  "kernelspec": {
   "display_name": "Python 3",
   "language": "python",
   "name": "python3"
  },
  "language_info": {
   "codemirror_mode": {
    "name": "ipython",
    "version": 3
   },
   "file_extension": ".py",
   "mimetype": "text/x-python",
   "name": "python",
   "nbconvert_exporter": "python",
   "pygments_lexer": "ipython3",
   "version": "3.7.3"
  },
  "toc": {
   "base_numbering": 1,
   "nav_menu": {},
   "number_sections": true,
   "sideBar": true,
   "skip_h1_title": false,
   "title_cell": "Table of Contents",
   "title_sidebar": "Contents",
   "toc_cell": false,
   "toc_position": {
    "height": "calc(100% - 180px)",
    "left": "10px",
    "top": "150px",
    "width": "263.875px"
   },
   "toc_section_display": true,
   "toc_window_display": true
  }
 },
 "nbformat": 4,
 "nbformat_minor": 1
}
