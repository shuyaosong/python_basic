{
 "cells": [
  {
   "cell_type": "markdown",
   "metadata": {},
   "source": [
    "# 判断结构\n",
    "* Python 中用 if 语句来判断条件，条件为 True 就执行 if 后的代码块。\n",
    "* 在 Python 中，非零非空为 True。"
   ]
  },
  {
   "cell_type": "markdown",
   "metadata": {},
   "source": [
    "## 基本结构"
   ]
  },
  {
   "cell_type": "code",
   "execution_count": 9,
   "metadata": {},
   "outputs": [
    {
     "name": "stdout",
     "output_type": "stream",
     "text": [
      "python\n"
     ]
    }
   ],
   "source": [
    "str = 100\n",
    "if str < 50:        \n",
    "    print('OK')   #通过缩进对代码分组\n",
    "print('python')"
   ]
  },
  {
   "cell_type": "code",
   "execution_count": 10,
   "metadata": {},
   "outputs": [
    {
     "name": "stdout",
     "output_type": "stream",
     "text": [
      "100-200\n"
     ]
    }
   ],
   "source": [
    "a = 200\n",
    "if a > 200:\n",
    "    print(200)\n",
    "elif a < 100:\n",
    "    print(100)\n",
    "else:\n",
    "    print('100-200')"
   ]
  },
  {
   "cell_type": "markdown",
   "metadata": {},
   "source": [
    "## 判断条件"
   ]
  },
  {
   "cell_type": "markdown",
   "metadata": {},
   "source": [
    "### 等于、不等于"
   ]
  },
  {
   "cell_type": "code",
   "execution_count": 11,
   "metadata": {},
   "outputs": [
    {
     "name": "stdout",
     "output_type": "stream",
     "text": [
      "different\n"
     ]
    }
   ],
   "source": [
    "a = 'male'\n",
    "b = 'female'\n",
    "if a == b:\n",
    "    print('same')\n",
    "elif a != b:\n",
    "    print('different')"
   ]
  },
  {
   "cell_type": "markdown",
   "metadata": {},
   "source": [
    "### 是否存在"
   ]
  },
  {
   "cell_type": "code",
   "execution_count": 13,
   "metadata": {},
   "outputs": [
    {
     "name": "stdout",
     "output_type": "stream",
     "text": [
      "3 in a\n"
     ]
    }
   ],
   "source": [
    "a =[1,2,3,4]   #可以使列表、字典、集合\n",
    "if 2 not in a:\n",
    "    print('2 not in a')\n",
    "elif 3 in a:\n",
    "    print('3 in a')"
   ]
  },
  {
   "cell_type": "markdown",
   "metadata": {},
   "source": [
    "### 条件间的运算"
   ]
  },
  {
   "cell_type": "code",
   "execution_count": 14,
   "metadata": {},
   "outputs": [
    {
     "data": {
      "text/plain": [
       "False"
      ]
     },
     "execution_count": 14,
     "metadata": {},
     "output_type": "execute_result"
    }
   ],
   "source": [
    "# 条件之间的运算可以用：and or not\n",
    "True and False # False\n",
    "True or False  # True\n",
    "not True       # False"
   ]
  },
  {
   "cell_type": "markdown",
   "metadata": {},
   "source": [
    "# 循环结构\n",
    "* for 循环可以遍历序列的元素，如集合、字符串、列表\n",
    "* while 循环只要满足 while 后边条件一直执行，直到不满足条件为止。"
   ]
  },
  {
   "cell_type": "markdown",
   "metadata": {},
   "source": [
    "## while循环\n",
    "* while语句容易写出无限循环，这时可以 CTRL+C 强制中断"
   ]
  },
  {
   "cell_type": "code",
   "execution_count": 16,
   "metadata": {},
   "outputs": [
    {
     "name": "stdout",
     "output_type": "stream",
     "text": [
      "1\n",
      "2\n",
      "3\n",
      "4\n"
     ]
    }
   ],
   "source": [
    "a = 1\n",
    "while a < 5:\n",
    "    print(a)\n",
    "    a += 1"
   ]
  },
  {
   "cell_type": "code",
   "execution_count": 18,
   "metadata": {},
   "outputs": [
    {
     "name": "stdout",
     "output_type": "stream",
     "text": [
      "1\n",
      "2\n",
      "3\n",
      "4\n"
     ]
    }
   ],
   "source": [
    "a = {1,2,3,4}\n",
    "while a:            #while后面跟集合的意思是：只要集合不为空，，就一直循环\n",
    "    b = a.pop()\n",
    "    print(b)"
   ]
  },
  {
   "cell_type": "markdown",
   "metadata": {},
   "source": [
    "## for循环"
   ]
  },
  {
   "cell_type": "code",
   "execution_count": 2,
   "metadata": {},
   "outputs": [
    {
     "name": "stdout",
     "output_type": "stream",
     "text": [
      "yao\n",
      "<class 'str'>\n",
      "shu\n",
      "<class 'str'>\n",
      "song\n",
      "<class 'str'>\n"
     ]
    }
   ],
   "source": [
    "str = {'shu', 'yao', 'song'}\n",
    "for name in str:          #name是变量名，in后面是集合则会遍历集合\n",
    "    print(name)\n",
    "    print(type(name))"
   ]
  },
  {
   "cell_type": "code",
   "execution_count": 3,
   "metadata": {},
   "outputs": [
    {
     "name": "stdout",
     "output_type": "stream",
     "text": [
      "s\n",
      "<class 'str'>\n",
      "h\n",
      "<class 'str'>\n",
      "u\n",
      "<class 'str'>\n"
     ]
    }
   ],
   "source": [
    "str = 'shu'      #循环打印字符串\n",
    "for a in str:\n",
    "    print(a)\n",
    "    print(type(a))"
   ]
  },
  {
   "cell_type": "markdown",
   "metadata": {},
   "source": [
    "### range函数"
   ]
  },
  {
   "cell_type": "code",
   "execution_count": 4,
   "metadata": {},
   "outputs": [
    {
     "name": "stdout",
     "output_type": "stream",
     "text": [
      "123\n",
      "<class 'int'>\n",
      "456\n",
      "<class 'int'>\n",
      "789\n",
      "<class 'int'>\n"
     ]
    }
   ],
   "source": [
    "str = [123,456,789,812,567]\n",
    "for i in range(3):       #range(3)的意思是0、1、2\n",
    "    print(str[i])\n",
    "    print(type(str[i]))"
   ]
  },
  {
   "cell_type": "code",
   "execution_count": 37,
   "metadata": {},
   "outputs": [
    {
     "name": "stdout",
     "output_type": "stream",
     "text": [
      "0\n",
      "1\n",
      "2\n",
      "3\n"
     ]
    }
   ],
   "source": [
    "#遍历序号\n",
    "str = [123,456,789,812]\n",
    "for i in range(len(str)):       #利用range函数构造索引\n",
    "    print(i)"
   ]
  },
  {
   "cell_type": "code",
   "execution_count": 56,
   "metadata": {},
   "outputs": [
    {
     "name": "stdout",
     "output_type": "stream",
     "text": [
      "123\n",
      "456\n",
      "789\n",
      "812\n"
     ]
    }
   ],
   "source": [
    "#遍历元素\n",
    "str = [123,456,789,812]\n",
    "for i in str:       \n",
    "    print(i)"
   ]
  },
  {
   "cell_type": "markdown",
   "metadata": {},
   "source": [
    "### enumerate函数"
   ]
  },
  {
   "cell_type": "code",
   "execution_count": 54,
   "metadata": {},
   "outputs": [
    {
     "name": "stdout",
     "output_type": "stream",
     "text": [
      "0 123\n",
      "1 456\n",
      "2 789\n",
      "3 812\n"
     ]
    }
   ],
   "source": [
    "#遍历序号与元素\n",
    "str = [123,456,789,812]\n",
    "for i,j in enumerate(str):    #enumerate枚举\n",
    "    print(i,j)"
   ]
  },
  {
   "cell_type": "markdown",
   "metadata": {},
   "source": [
    "### continue"
   ]
  },
  {
   "cell_type": "code",
   "execution_count": 33,
   "metadata": {},
   "outputs": [
    {
     "name": "stdout",
     "output_type": "stream",
     "text": [
      "10\n",
      "10\n",
      "12\n",
      "12\n",
      "14\n",
      "14\n"
     ]
    }
   ],
   "source": [
    "a = [10,11,12,13,14]\n",
    "for i in a:\n",
    "    if i%2 == 0:\n",
    "        print(i)\n",
    "    else:\n",
    "        continue    #continue的意思是跳过后续内容，直接执行下一次循环\n",
    "    print(i)"
   ]
  },
  {
   "cell_type": "markdown",
   "metadata": {},
   "source": [
    "### break"
   ]
  },
  {
   "cell_type": "code",
   "execution_count": 34,
   "metadata": {},
   "outputs": [
    {
     "name": "stdout",
     "output_type": "stream",
     "text": [
      "10\n",
      "10\n"
     ]
    }
   ],
   "source": [
    "a = [10,11,12,13,14]\n",
    "for i in a:\n",
    "    if i%2 == 0:\n",
    "        print(i)\n",
    "    else:\n",
    "        break    #break的意思是循环结束\n",
    "    print(i)"
   ]
  },
  {
   "cell_type": "code",
   "execution_count": null,
   "metadata": {},
   "outputs": [],
   "source": []
  }
 ],
 "metadata": {
  "kernelspec": {
   "display_name": "Python 3",
   "language": "python",
   "name": "python3"
  },
  "language_info": {
   "codemirror_mode": {
    "name": "ipython",
    "version": 3
   },
   "file_extension": ".py",
   "mimetype": "text/x-python",
   "name": "python",
   "nbconvert_exporter": "python",
   "pygments_lexer": "ipython3",
   "version": "3.7.3"
  },
  "toc": {
   "base_numbering": 1,
   "nav_menu": {},
   "number_sections": true,
   "sideBar": true,
   "skip_h1_title": false,
   "title_cell": "Table of Contents",
   "title_sidebar": "Contents",
   "toc_cell": false,
   "toc_position": {
    "height": "calc(100% - 180px)",
    "left": "10px",
    "top": "150px",
    "width": "165px"
   },
   "toc_section_display": true,
   "toc_window_display": true
  }
 },
 "nbformat": 4,
 "nbformat_minor": 2
}
